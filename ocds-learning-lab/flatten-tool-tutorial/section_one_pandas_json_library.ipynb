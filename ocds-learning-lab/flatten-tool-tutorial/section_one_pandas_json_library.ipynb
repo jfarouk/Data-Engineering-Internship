{
 "cells": [
  {
   "cell_type": "code",
   "execution_count": 1,
   "metadata": {},
   "outputs": [],
   "source": [
    "#import relevant libraries\n",
    "\n",
    "import pandas as pd\n",
    "import json\n",
    "from pandas.io.json import json_normalize"
   ]
  },
  {
   "cell_type": "code",
   "execution_count": 2,
   "metadata": {},
   "outputs": [],
   "source": [
    "# Reading the json file as a dictionary\n",
    "\n",
    "with open('./data/sample-ocds-award-data.json') as data:\n",
    "    ocds_award = json.load(data)"
   ]
  },
  {
   "cell_type": "code",
   "execution_count": 3,
   "metadata": {},
   "outputs": [
    {
     "data": {
      "text/plain": [
       "dict_keys(['uri', 'publishedDate', 'publisher', 'license', 'publicationPolicy', 'releases'])"
      ]
     },
     "execution_count": 3,
     "metadata": {},
     "output_type": "execute_result"
    }
   ],
   "source": [
    "# Printing out the keys of the sample ocds data\n",
    "\n",
    "ocds_award.keys()"
   ]
  },
  {
   "cell_type": "code",
   "execution_count": 4,
   "metadata": {
    "scrolled": true
   },
   "outputs": [
    {
     "data": {
      "text/html": [
       "<div>\n",
       "<style scoped>\n",
       "    .dataframe tbody tr th:only-of-type {\n",
       "        vertical-align: middle;\n",
       "    }\n",
       "\n",
       "    .dataframe tbody tr th {\n",
       "        vertical-align: top;\n",
       "    }\n",
       "\n",
       "    .dataframe thead th {\n",
       "        text-align: right;\n",
       "    }\n",
       "</style>\n",
       "<table border=\"1\" class=\"dataframe\">\n",
       "  <thead>\n",
       "    <tr style=\"text-align: right;\">\n",
       "      <th></th>\n",
       "      <th>awards</th>\n",
       "      <th>buyer.address.countryName</th>\n",
       "      <th>buyer.address.locality</th>\n",
       "      <th>buyer.address.postalCode</th>\n",
       "      <th>buyer.address.region</th>\n",
       "      <th>buyer.address.streetAddress</th>\n",
       "      <th>buyer.contactPoint.email</th>\n",
       "      <th>buyer.contactPoint.faxNumber</th>\n",
       "      <th>buyer.contactPoint.name</th>\n",
       "      <th>buyer.contactPoint.telephone</th>\n",
       "      <th>...</th>\n",
       "      <th>buyer.identifier.legalName</th>\n",
       "      <th>buyer.identifier.scheme</th>\n",
       "      <th>buyer.identifier.uri</th>\n",
       "      <th>buyer.name</th>\n",
       "      <th>date</th>\n",
       "      <th>id</th>\n",
       "      <th>initiationType</th>\n",
       "      <th>language</th>\n",
       "      <th>ocid</th>\n",
       "      <th>tag</th>\n",
       "    </tr>\n",
       "  </thead>\n",
       "  <tbody>\n",
       "    <tr>\n",
       "      <th>0</th>\n",
       "      <td>[{'id': 'ocds-213czf-000-00001-award-01', 'tit...</td>\n",
       "      <td>United Kingdom</td>\n",
       "      <td>London</td>\n",
       "      <td>N11 1NP</td>\n",
       "      <td>London</td>\n",
       "      <td>4, North London Business Park, Oakleigh Rd S</td>\n",
       "      <td>procurement-team@example.com</td>\n",
       "      <td>01234 345 345</td>\n",
       "      <td>Procurement Team</td>\n",
       "      <td>01234 345 346</td>\n",
       "      <td>...</td>\n",
       "      <td>London Borough of Barnet</td>\n",
       "      <td>GB-LAC</td>\n",
       "      <td>http://www.barnet.gov.uk/</td>\n",
       "      <td>London Borough of Barnet</td>\n",
       "      <td>2010-05-10T09:30:00Z</td>\n",
       "      <td>ocds-213czf-000-00001-04-award</td>\n",
       "      <td>tender</td>\n",
       "      <td>en</td>\n",
       "      <td>ocds-213czf-000-00001</td>\n",
       "      <td>[award]</td>\n",
       "    </tr>\n",
       "  </tbody>\n",
       "</table>\n",
       "<p>1 rows × 22 columns</p>\n",
       "</div>"
      ],
      "text/plain": [
       "                                              awards  \\\n",
       "0  [{'id': 'ocds-213czf-000-00001-award-01', 'tit...   \n",
       "\n",
       "  buyer.address.countryName buyer.address.locality buyer.address.postalCode  \\\n",
       "0            United Kingdom                 London                  N11 1NP   \n",
       "\n",
       "  buyer.address.region                   buyer.address.streetAddress  \\\n",
       "0               London  4, North London Business Park, Oakleigh Rd S   \n",
       "\n",
       "       buyer.contactPoint.email buyer.contactPoint.faxNumber  \\\n",
       "0  procurement-team@example.com                01234 345 345   \n",
       "\n",
       "  buyer.contactPoint.name buyer.contactPoint.telephone  ...  \\\n",
       "0        Procurement Team                01234 345 346  ...   \n",
       "\n",
       "  buyer.identifier.legalName buyer.identifier.scheme  \\\n",
       "0   London Borough of Barnet                  GB-LAC   \n",
       "\n",
       "        buyer.identifier.uri                buyer.name                  date  \\\n",
       "0  http://www.barnet.gov.uk/  London Borough of Barnet  2010-05-10T09:30:00Z   \n",
       "\n",
       "                               id initiationType language  \\\n",
       "0  ocds-213czf-000-00001-04-award         tender       en   \n",
       "\n",
       "                    ocid      tag  \n",
       "0  ocds-213czf-000-00001  [award]  \n",
       "\n",
       "[1 rows x 22 columns]"
      ]
     },
     "execution_count": 4,
     "metadata": {},
     "output_type": "execute_result"
    }
   ],
   "source": [
    "# flattening out 'releases'\n",
    "\n",
    "all_releases = json_normalize(ocds_award['releases'])\n",
    "pd.DataFrame(all_releases).head()"
   ]
  },
  {
   "cell_type": "code",
   "execution_count": 5,
   "metadata": {},
   "outputs": [
    {
     "data": {
      "text/html": [
       "<div>\n",
       "<style scoped>\n",
       "    .dataframe tbody tr th:only-of-type {\n",
       "        vertical-align: middle;\n",
       "    }\n",
       "\n",
       "    .dataframe tbody tr th {\n",
       "        vertical-align: top;\n",
       "    }\n",
       "\n",
       "    .dataframe thead th {\n",
       "        text-align: right;\n",
       "    }\n",
       "</style>\n",
       "<table border=\"1\" class=\"dataframe\">\n",
       "  <thead>\n",
       "    <tr style=\"text-align: right;\">\n",
       "      <th></th>\n",
       "      <th>awards/awards</th>\n",
       "      <th>awards/buyer</th>\n",
       "      <th>awards/date</th>\n",
       "      <th>awards/id</th>\n",
       "      <th>awards/initiationType</th>\n",
       "      <th>awards/language</th>\n",
       "      <th>awards/ocid</th>\n",
       "      <th>awards/tag</th>\n",
       "      <th>awards</th>\n",
       "    </tr>\n",
       "  </thead>\n",
       "  <tbody>\n",
       "    <tr>\n",
       "      <th>0</th>\n",
       "      <td>[{'id': 'ocds-213czf-000-00001-award-01', 'tit...</td>\n",
       "      <td>{'identifier': {'scheme': 'GB-LAC', 'id': 'E09...</td>\n",
       "      <td>2010-05-10T09:30:00Z</td>\n",
       "      <td>ocds-213czf-000-00001-04-award</td>\n",
       "      <td>tender</td>\n",
       "      <td>en</td>\n",
       "      <td>ocds-213czf-000-00001</td>\n",
       "      <td>[award]</td>\n",
       "      <td>NaN</td>\n",
       "    </tr>\n",
       "  </tbody>\n",
       "</table>\n",
       "</div>"
      ],
      "text/plain": [
       "                                       awards/awards  \\\n",
       "0  [{'id': 'ocds-213czf-000-00001-award-01', 'tit...   \n",
       "\n",
       "                                        awards/buyer           awards/date  \\\n",
       "0  {'identifier': {'scheme': 'GB-LAC', 'id': 'E09...  2010-05-10T09:30:00Z   \n",
       "\n",
       "                        awards/id awards/initiationType awards/language  \\\n",
       "0  ocds-213czf-000-00001-04-award                tender              en   \n",
       "\n",
       "             awards/ocid awards/tag  awards  \n",
       "0  ocds-213czf-000-00001    [award]     NaN  "
      ]
     },
     "execution_count": 5,
     "metadata": {},
     "output_type": "execute_result"
    }
   ],
   "source": [
    "# flattening out 'awards' to see all the details it contains\n",
    "\n",
    "award_releases = json_normalize(ocds_award, 'releases', ['awards'], errors='ignore', record_prefix='awards/')\n",
    "pd.DataFrame(award_releases).head()"
   ]
  },
  {
   "cell_type": "code",
   "execution_count": 6,
   "metadata": {},
   "outputs": [
    {
     "data": {
      "text/html": [
       "<div>\n",
       "<style scoped>\n",
       "    .dataframe tbody tr th:only-of-type {\n",
       "        vertical-align: middle;\n",
       "    }\n",
       "\n",
       "    .dataframe tbody tr th {\n",
       "        vertical-align: top;\n",
       "    }\n",
       "\n",
       "    .dataframe thead th {\n",
       "        text-align: right;\n",
       "    }\n",
       "</style>\n",
       "<table border=\"1\" class=\"dataframe\">\n",
       "  <thead>\n",
       "    <tr style=\"text-align: right;\">\n",
       "      <th></th>\n",
       "      <th>awards/awards</th>\n",
       "    </tr>\n",
       "  </thead>\n",
       "  <tbody>\n",
       "    <tr>\n",
       "      <th>0</th>\n",
       "      <td>[{'id': 'ocds-213czf-000-00001-award-01', 'tit...</td>\n",
       "    </tr>\n",
       "  </tbody>\n",
       "</table>\n",
       "</div>"
      ],
      "text/plain": [
       "                                       awards/awards\n",
       "0  [{'id': 'ocds-213czf-000-00001-award-01', 'tit..."
      ]
     },
     "execution_count": 6,
     "metadata": {},
     "output_type": "execute_result"
    }
   ],
   "source": [
    "#as we're still not getting supplier details let's further flatten 'awards/awards.'\n",
    "#fist, let's read the column in a dataframe\n",
    "\n",
    "award_details = pd.DataFrame(award_releases['awards/awards'])\n",
    "award_details"
   ]
  },
  {
   "cell_type": "code",
   "execution_count": 7,
   "metadata": {},
   "outputs": [],
   "source": [
    "#unpacking all details in the new dataframe 'award_details'\n",
    "\n",
    "def unpack(award_details):\n",
    "    award_details_unpacked = []\n",
    "    for i in award_details:\n",
    "        if type(i) != list:\n",
    "            award_details_unpacked.append(i)\n",
    "        else:\n",
    "            award_details_unpacked = award_details_unpacked + unpack(i)\n",
    "    return award_details_unpacked\n",
    "\n",
    "award_details_unpacked = {}\n",
    "for k, v in award_details.items():\n",
    "    award_details_unpacked[k] = unpack(v)"
   ]
  },
  {
   "cell_type": "code",
   "execution_count": 8,
   "metadata": {},
   "outputs": [
    {
     "data": {
      "text/plain": [
       "{'awards/awards': [{'id': 'ocds-213czf-000-00001-award-01',\n",
       "   'title': 'Award of contract to build new cycle lanes in the centre of town.',\n",
       "   'description': 'AnyCorp Ltd has been awarded the contract to build new cycle lanes in the centre of town.',\n",
       "   'status': 'pending',\n",
       "   'date': '2010-05-10T09:30:00Z',\n",
       "   'value': {'amount': 11000000, 'currency': 'GBP'},\n",
       "   'suppliers': [{'identifier': {'scheme': 'GB-COH',\n",
       "      'id': '1234567844',\n",
       "      'legalName': 'AnyCorp Ltd',\n",
       "      'uri': 'http://www.anycorp.example'},\n",
       "     'additionalIdentifiers': [{'scheme': 'GB-VAT', 'id': '987654321'}],\n",
       "     'name': 'AnyCorp Cycle Provision',\n",
       "     'address': {'streetAddress': '100 Anytown Lane',\n",
       "      'locality': 'Anytown',\n",
       "      'region': 'AnyCounty',\n",
       "      'postalCode': 'AN1 1TN',\n",
       "      'countryName': 'United Kingdom'},\n",
       "     'contactPoint': {'name': 'Contracts Team',\n",
       "      'email': 'contracts@anycorp.example',\n",
       "      'telephone': '12345 456 343',\n",
       "      'faxNumber': '12345 456 343'}}],\n",
       "   'items': [{'id': '0001',\n",
       "     'description': 'string',\n",
       "     'classification': {'scheme': 'CPV',\n",
       "      'id': '45233130',\n",
       "      'description': 'Construction work for highways',\n",
       "      'uri': 'http://cpv.data.ac.uk/code-45233130'},\n",
       "     'additionalClassifications': [{'scheme': 'CPV',\n",
       "       'id': '45233162-2',\n",
       "       'description': 'Cycle path construction work',\n",
       "       'uri': 'http://cpv.data.ac.uk/code-45233162.html'}],\n",
       "     'quantity': 8,\n",
       "     'unit': {'name': 'Miles',\n",
       "      'value': {'amount': 137000, 'currency': 'GBP'}}}],\n",
       "   'contractPeriod': {'startDate': '2010-07-01T00:00:00Z',\n",
       "    'endDate': '2011-08-01T23:59:00Z'},\n",
       "   'documents': [{'id': '0007',\n",
       "     'documentType': 'notice',\n",
       "     'title': 'Award notice',\n",
       "     'description': 'Award of contract to build new cycle lanes in the centre of town to AnyCorp Ltd.',\n",
       "     'url': 'http://example.com/tender-notices/ocds-213czf-000-00001-04.html',\n",
       "     'datePublished': '2010-05-10T09:30:00Z',\n",
       "     'format': 'text/html',\n",
       "     'language': 'en'}]}]}"
      ]
     },
     "execution_count": 8,
     "metadata": {},
     "output_type": "execute_result"
    }
   ],
   "source": [
    "#printing out unpacked dataframe\n",
    "\n",
    "award_details_unpacked"
   ]
  }
 ],
 "metadata": {
  "kernelspec": {
   "display_name": "Python 3",
   "language": "python",
   "name": "python3"
  },
  "language_info": {
   "codemirror_mode": {
    "name": "ipython",
    "version": 3
   },
   "file_extension": ".py",
   "mimetype": "text/x-python",
   "name": "python",
   "nbconvert_exporter": "python",
   "pygments_lexer": "ipython3",
   "version": "3.7.3"
  }
 },
 "nbformat": 4,
 "nbformat_minor": 2
}
